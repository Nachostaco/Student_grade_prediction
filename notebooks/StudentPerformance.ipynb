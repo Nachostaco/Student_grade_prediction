{
 "cells": [
  {
   "cell_type": "code",
   "execution_count": 25,
   "id": "initial_id",
   "metadata": {
    "collapsed": true,
    "ExecuteTime": {
     "end_time": "2024-10-24T09:10:53.115443Z",
     "start_time": "2024-10-24T09:10:53.112134Z"
    }
   },
   "outputs": [],
   "source": [
    "import pandas as pd\n",
    "import numpy as np\n",
    "import matplotlib.pyplot as plt\n",
    "import seaborn as sns\n"
   ]
  },
  {
   "cell_type": "code",
   "outputs": [
    {
     "data": {
      "text/plain": "   Hours_Studied  Attendance Parental_Involvement Access_to_Resources  \\\n0             23          84                  Low                High   \n1             19          64                  Low              Medium   \n2             24          98               Medium              Medium   \n3             29          89                  Low              Medium   \n4             19          92               Medium              Medium   \n\n  Extracurricular_Activities  Sleep_Hours  Previous_Scores Motivation_Level  \\\n0                         No            7               73              Low   \n1                         No            8               59              Low   \n2                        Yes            7               91           Medium   \n3                        Yes            8               98           Medium   \n4                        Yes            6               65           Medium   \n\n  Internet_Access  Tutoring_Sessions Family_Income Teacher_Quality  \\\n0             Yes                  0           Low          Medium   \n1             Yes                  2        Medium          Medium   \n2             Yes                  2        Medium          Medium   \n3             Yes                  1        Medium          Medium   \n4             Yes                  3        Medium            High   \n\n  School_Type Peer_Influence  Physical_Activity Learning_Disabilities  \\\n0      Public       Positive                  3                    No   \n1      Public       Negative                  4                    No   \n2      Public        Neutral                  4                    No   \n3      Public       Negative                  4                    No   \n4      Public        Neutral                  4                    No   \n\n  Parental_Education_Level Distance_from_Home  Gender  Exam_Score  \n0              High School               Near    Male          67  \n1                  College           Moderate  Female          61  \n2             Postgraduate               Near    Male          74  \n3              High School           Moderate    Male          71  \n4                  College               Near  Female          70  ",
      "text/html": "<div>\n<style scoped>\n    .dataframe tbody tr th:only-of-type {\n        vertical-align: middle;\n    }\n\n    .dataframe tbody tr th {\n        vertical-align: top;\n    }\n\n    .dataframe thead th {\n        text-align: right;\n    }\n</style>\n<table border=\"1\" class=\"dataframe\">\n  <thead>\n    <tr style=\"text-align: right;\">\n      <th></th>\n      <th>Hours_Studied</th>\n      <th>Attendance</th>\n      <th>Parental_Involvement</th>\n      <th>Access_to_Resources</th>\n      <th>Extracurricular_Activities</th>\n      <th>Sleep_Hours</th>\n      <th>Previous_Scores</th>\n      <th>Motivation_Level</th>\n      <th>Internet_Access</th>\n      <th>Tutoring_Sessions</th>\n      <th>Family_Income</th>\n      <th>Teacher_Quality</th>\n      <th>School_Type</th>\n      <th>Peer_Influence</th>\n      <th>Physical_Activity</th>\n      <th>Learning_Disabilities</th>\n      <th>Parental_Education_Level</th>\n      <th>Distance_from_Home</th>\n      <th>Gender</th>\n      <th>Exam_Score</th>\n    </tr>\n  </thead>\n  <tbody>\n    <tr>\n      <th>0</th>\n      <td>23</td>\n      <td>84</td>\n      <td>Low</td>\n      <td>High</td>\n      <td>No</td>\n      <td>7</td>\n      <td>73</td>\n      <td>Low</td>\n      <td>Yes</td>\n      <td>0</td>\n      <td>Low</td>\n      <td>Medium</td>\n      <td>Public</td>\n      <td>Positive</td>\n      <td>3</td>\n      <td>No</td>\n      <td>High School</td>\n      <td>Near</td>\n      <td>Male</td>\n      <td>67</td>\n    </tr>\n    <tr>\n      <th>1</th>\n      <td>19</td>\n      <td>64</td>\n      <td>Low</td>\n      <td>Medium</td>\n      <td>No</td>\n      <td>8</td>\n      <td>59</td>\n      <td>Low</td>\n      <td>Yes</td>\n      <td>2</td>\n      <td>Medium</td>\n      <td>Medium</td>\n      <td>Public</td>\n      <td>Negative</td>\n      <td>4</td>\n      <td>No</td>\n      <td>College</td>\n      <td>Moderate</td>\n      <td>Female</td>\n      <td>61</td>\n    </tr>\n    <tr>\n      <th>2</th>\n      <td>24</td>\n      <td>98</td>\n      <td>Medium</td>\n      <td>Medium</td>\n      <td>Yes</td>\n      <td>7</td>\n      <td>91</td>\n      <td>Medium</td>\n      <td>Yes</td>\n      <td>2</td>\n      <td>Medium</td>\n      <td>Medium</td>\n      <td>Public</td>\n      <td>Neutral</td>\n      <td>4</td>\n      <td>No</td>\n      <td>Postgraduate</td>\n      <td>Near</td>\n      <td>Male</td>\n      <td>74</td>\n    </tr>\n    <tr>\n      <th>3</th>\n      <td>29</td>\n      <td>89</td>\n      <td>Low</td>\n      <td>Medium</td>\n      <td>Yes</td>\n      <td>8</td>\n      <td>98</td>\n      <td>Medium</td>\n      <td>Yes</td>\n      <td>1</td>\n      <td>Medium</td>\n      <td>Medium</td>\n      <td>Public</td>\n      <td>Negative</td>\n      <td>4</td>\n      <td>No</td>\n      <td>High School</td>\n      <td>Moderate</td>\n      <td>Male</td>\n      <td>71</td>\n    </tr>\n    <tr>\n      <th>4</th>\n      <td>19</td>\n      <td>92</td>\n      <td>Medium</td>\n      <td>Medium</td>\n      <td>Yes</td>\n      <td>6</td>\n      <td>65</td>\n      <td>Medium</td>\n      <td>Yes</td>\n      <td>3</td>\n      <td>Medium</td>\n      <td>High</td>\n      <td>Public</td>\n      <td>Neutral</td>\n      <td>4</td>\n      <td>No</td>\n      <td>College</td>\n      <td>Near</td>\n      <td>Female</td>\n      <td>70</td>\n    </tr>\n  </tbody>\n</table>\n</div>"
     },
     "execution_count": 26,
     "metadata": {},
     "output_type": "execute_result"
    }
   ],
   "source": [
    "data = pd.read_csv(\"../data/StudentPerformanceFactors.csv\")\n",
    "data.head()"
   ],
   "metadata": {
    "collapsed": false,
    "ExecuteTime": {
     "end_time": "2024-10-24T09:10:53.263376Z",
     "start_time": "2024-10-24T09:10:53.241544Z"
    }
   },
   "id": "2b39702becfdef0f",
   "execution_count": 26
  },
  {
   "cell_type": "code",
   "outputs": [
    {
     "data": {
      "text/plain": "       Hours_Studied   Attendance  Sleep_Hours  Previous_Scores  \\\ncount    6607.000000  6607.000000   6607.00000      6607.000000   \nmean       19.975329    79.977448      7.02906        75.070531   \nstd         5.990594    11.547475      1.46812        14.399784   \nmin         1.000000    60.000000      4.00000        50.000000   \n25%        16.000000    70.000000      6.00000        63.000000   \n50%        20.000000    80.000000      7.00000        75.000000   \n75%        24.000000    90.000000      8.00000        88.000000   \nmax        44.000000   100.000000     10.00000       100.000000   \n\n       Tutoring_Sessions  Physical_Activity   Exam_Score  \ncount        6607.000000        6607.000000  6607.000000  \nmean            1.493719           2.967610    67.235659  \nstd             1.230570           1.031231     3.890456  \nmin             0.000000           0.000000    55.000000  \n25%             1.000000           2.000000    65.000000  \n50%             1.000000           3.000000    67.000000  \n75%             2.000000           4.000000    69.000000  \nmax             8.000000           6.000000   101.000000  ",
      "text/html": "<div>\n<style scoped>\n    .dataframe tbody tr th:only-of-type {\n        vertical-align: middle;\n    }\n\n    .dataframe tbody tr th {\n        vertical-align: top;\n    }\n\n    .dataframe thead th {\n        text-align: right;\n    }\n</style>\n<table border=\"1\" class=\"dataframe\">\n  <thead>\n    <tr style=\"text-align: right;\">\n      <th></th>\n      <th>Hours_Studied</th>\n      <th>Attendance</th>\n      <th>Sleep_Hours</th>\n      <th>Previous_Scores</th>\n      <th>Tutoring_Sessions</th>\n      <th>Physical_Activity</th>\n      <th>Exam_Score</th>\n    </tr>\n  </thead>\n  <tbody>\n    <tr>\n      <th>count</th>\n      <td>6607.000000</td>\n      <td>6607.000000</td>\n      <td>6607.00000</td>\n      <td>6607.000000</td>\n      <td>6607.000000</td>\n      <td>6607.000000</td>\n      <td>6607.000000</td>\n    </tr>\n    <tr>\n      <th>mean</th>\n      <td>19.975329</td>\n      <td>79.977448</td>\n      <td>7.02906</td>\n      <td>75.070531</td>\n      <td>1.493719</td>\n      <td>2.967610</td>\n      <td>67.235659</td>\n    </tr>\n    <tr>\n      <th>std</th>\n      <td>5.990594</td>\n      <td>11.547475</td>\n      <td>1.46812</td>\n      <td>14.399784</td>\n      <td>1.230570</td>\n      <td>1.031231</td>\n      <td>3.890456</td>\n    </tr>\n    <tr>\n      <th>min</th>\n      <td>1.000000</td>\n      <td>60.000000</td>\n      <td>4.00000</td>\n      <td>50.000000</td>\n      <td>0.000000</td>\n      <td>0.000000</td>\n      <td>55.000000</td>\n    </tr>\n    <tr>\n      <th>25%</th>\n      <td>16.000000</td>\n      <td>70.000000</td>\n      <td>6.00000</td>\n      <td>63.000000</td>\n      <td>1.000000</td>\n      <td>2.000000</td>\n      <td>65.000000</td>\n    </tr>\n    <tr>\n      <th>50%</th>\n      <td>20.000000</td>\n      <td>80.000000</td>\n      <td>7.00000</td>\n      <td>75.000000</td>\n      <td>1.000000</td>\n      <td>3.000000</td>\n      <td>67.000000</td>\n    </tr>\n    <tr>\n      <th>75%</th>\n      <td>24.000000</td>\n      <td>90.000000</td>\n      <td>8.00000</td>\n      <td>88.000000</td>\n      <td>2.000000</td>\n      <td>4.000000</td>\n      <td>69.000000</td>\n    </tr>\n    <tr>\n      <th>max</th>\n      <td>44.000000</td>\n      <td>100.000000</td>\n      <td>10.00000</td>\n      <td>100.000000</td>\n      <td>8.000000</td>\n      <td>6.000000</td>\n      <td>101.000000</td>\n    </tr>\n  </tbody>\n</table>\n</div>"
     },
     "execution_count": 27,
     "metadata": {},
     "output_type": "execute_result"
    }
   ],
   "source": [
    "data.describe()"
   ],
   "metadata": {
    "collapsed": false,
    "ExecuteTime": {
     "end_time": "2024-10-24T09:10:53.525108Z",
     "start_time": "2024-10-24T09:10:53.502352Z"
    }
   },
   "id": "5a0d823904a78e51",
   "execution_count": 27
  },
  {
   "cell_type": "code",
   "outputs": [],
   "source": [],
   "metadata": {
    "collapsed": false,
    "ExecuteTime": {
     "end_time": "2024-10-24T09:10:53.604986Z",
     "start_time": "2024-10-24T09:10:53.602398Z"
    }
   },
   "id": "e15b6d22fa11d302",
   "execution_count": 27
  },
  {
   "cell_type": "code",
   "outputs": [
    {
     "name": "stdout",
     "output_type": "stream",
     "text": [
      "<class 'pandas.core.frame.DataFrame'>\n",
      "RangeIndex: 6607 entries, 0 to 6606\n",
      "Data columns (total 20 columns):\n",
      " #   Column                      Non-Null Count  Dtype \n",
      "---  ------                      --------------  ----- \n",
      " 0   Hours_Studied               6607 non-null   int64 \n",
      " 1   Attendance                  6607 non-null   int64 \n",
      " 2   Parental_Involvement        6607 non-null   object\n",
      " 3   Access_to_Resources         6607 non-null   object\n",
      " 4   Extracurricular_Activities  6607 non-null   object\n",
      " 5   Sleep_Hours                 6607 non-null   int64 \n",
      " 6   Previous_Scores             6607 non-null   int64 \n",
      " 7   Motivation_Level            6607 non-null   object\n",
      " 8   Internet_Access             6607 non-null   object\n",
      " 9   Tutoring_Sessions           6607 non-null   int64 \n",
      " 10  Family_Income               6607 non-null   object\n",
      " 11  Teacher_Quality             6529 non-null   object\n",
      " 12  School_Type                 6607 non-null   object\n",
      " 13  Peer_Influence              6607 non-null   object\n",
      " 14  Physical_Activity           6607 non-null   int64 \n",
      " 15  Learning_Disabilities       6607 non-null   object\n",
      " 16  Parental_Education_Level    6517 non-null   object\n",
      " 17  Distance_from_Home          6540 non-null   object\n",
      " 18  Gender                      6607 non-null   object\n",
      " 19  Exam_Score                  6607 non-null   int64 \n",
      "dtypes: int64(7), object(13)\n",
      "memory usage: 1.0+ MB\n"
     ]
    }
   ],
   "source": [
    "data.info()"
   ],
   "metadata": {
    "collapsed": false,
    "ExecuteTime": {
     "end_time": "2024-10-24T09:10:53.755765Z",
     "start_time": "2024-10-24T09:10:53.745641Z"
    }
   },
   "id": "f7a408a4ec5f034f",
   "execution_count": 28
  },
  {
   "cell_type": "code",
   "outputs": [
    {
     "name": "stdout",
     "output_type": "stream",
     "text": [
      "<class 'pandas.core.frame.DataFrame'>\n",
      "RangeIndex: 6607 entries, 0 to 6606\n",
      "Data columns (total 20 columns):\n",
      " #   Column                      Non-Null Count  Dtype \n",
      "---  ------                      --------------  ----- \n",
      " 0   Hours_Studied               6607 non-null   object\n",
      " 1   Attendance                  6607 non-null   object\n",
      " 2   Parental_Involvement        6607 non-null   object\n",
      " 3   Access_to_Resources         6607 non-null   object\n",
      " 4   Extracurricular_Activities  6607 non-null   object\n",
      " 5   Sleep_Hours                 6607 non-null   object\n",
      " 6   Previous_Scores             6607 non-null   object\n",
      " 7   Motivation_Level            6607 non-null   object\n",
      " 8   Internet_Access             6607 non-null   object\n",
      " 9   Tutoring_Sessions           6607 non-null   object\n",
      " 10  Family_Income               6607 non-null   object\n",
      " 11  Teacher_Quality             6607 non-null   object\n",
      " 12  School_Type                 6607 non-null   object\n",
      " 13  Peer_Influence              6607 non-null   object\n",
      " 14  Physical_Activity           6607 non-null   object\n",
      " 15  Learning_Disabilities       6607 non-null   object\n",
      " 16  Parental_Education_Level    6607 non-null   object\n",
      " 17  Distance_from_Home          6607 non-null   object\n",
      " 18  Gender                      6607 non-null   object\n",
      " 19  Exam_Score                  6607 non-null   object\n",
      "dtypes: object(20)\n",
      "memory usage: 1.0+ MB\n"
     ]
    }
   ],
   "source": [
    "from sklearn.impute import SimpleImputer\n",
    "imputer = SimpleImputer(strategy='most_frequent')\n",
    "data_imputed = imputer.fit_transform(data)\n",
    "data_imputed = pd.DataFrame(data=data_imputed)\n",
    "data_imputed.columns = data.columns\n",
    "data_imputed.info()"
   ],
   "metadata": {
    "collapsed": false,
    "ExecuteTime": {
     "end_time": "2024-10-24T09:10:53.920765Z",
     "start_time": "2024-10-24T09:10:53.891411Z"
    }
   },
   "id": "f644ad773354cee2",
   "execution_count": 29
  },
  {
   "cell_type": "code",
   "outputs": [
    {
     "data": {
      "text/plain": "Index(['Hours_Studied', 'Attendance', 'Sleep_Hours', 'Previous_Scores',\n       'Tutoring_Sessions', 'Physical_Activity', 'Exam_Score'],\n      dtype='object')"
     },
     "execution_count": 30,
     "metadata": {},
     "output_type": "execute_result"
    }
   ],
   "source": [
    "data.select_dtypes(include=['int64', 'float']).columns"
   ],
   "metadata": {
    "collapsed": false,
    "ExecuteTime": {
     "end_time": "2024-10-24T09:10:54.092180Z",
     "start_time": "2024-10-24T09:10:54.087053Z"
    }
   },
   "id": "b78474ae6a5587f",
   "execution_count": 30
  },
  {
   "cell_type": "code",
   "outputs": [
    {
     "name": "stdout",
     "output_type": "stream",
     "text": [
      "<class 'pandas.core.frame.DataFrame'>\n",
      "RangeIndex: 6607 entries, 0 to 6606\n",
      "Data columns (total 20 columns):\n",
      " #   Column                      Non-Null Count  Dtype \n",
      "---  ------                      --------------  ----- \n",
      " 0   Hours_Studied               6607 non-null   int64 \n",
      " 1   Attendance                  6607 non-null   int64 \n",
      " 2   Parental_Involvement        6607 non-null   object\n",
      " 3   Access_to_Resources         6607 non-null   object\n",
      " 4   Extracurricular_Activities  6607 non-null   object\n",
      " 5   Sleep_Hours                 6607 non-null   int64 \n",
      " 6   Previous_Scores             6607 non-null   int64 \n",
      " 7   Motivation_Level            6607 non-null   object\n",
      " 8   Internet_Access             6607 non-null   object\n",
      " 9   Tutoring_Sessions           6607 non-null   int64 \n",
      " 10  Family_Income               6607 non-null   object\n",
      " 11  Teacher_Quality             6607 non-null   object\n",
      " 12  School_Type                 6607 non-null   object\n",
      " 13  Peer_Influence              6607 non-null   object\n",
      " 14  Physical_Activity           6607 non-null   int64 \n",
      " 15  Learning_Disabilities       6607 non-null   object\n",
      " 16  Parental_Education_Level    6607 non-null   object\n",
      " 17  Distance_from_Home          6607 non-null   object\n",
      " 18  Gender                      6607 non-null   object\n",
      " 19  Exam_Score                  6607 non-null   int64 \n",
      "dtypes: int64(7), object(13)\n",
      "memory usage: 1.0+ MB\n"
     ]
    }
   ],
   "source": [
    "data_imputed['Hours_Studied'] = data_imputed['Hours_Studied'].astype('int64')\n",
    "data_imputed['Attendance'] = data_imputed['Attendance'].astype('int64')\n",
    "data_imputed['Sleep_Hours'] = data_imputed['Sleep_Hours'].astype('int64')\n",
    "data_imputed['Previous_Scores'] = data_imputed['Previous_Scores'].astype('int64')\n",
    "data_imputed['Tutoring_Sessions'] = data_imputed['Tutoring_Sessions'].astype('int64')\n",
    "data_imputed['Physical_Activity'] = data_imputed['Physical_Activity'].astype('int64')\n",
    "data_imputed['Exam_Score'] = data_imputed['Exam_Score'].astype('int64')\n",
    "data_imputed.info()"
   ],
   "metadata": {
    "collapsed": false,
    "ExecuteTime": {
     "end_time": "2024-10-24T09:10:54.259822Z",
     "start_time": "2024-10-24T09:10:54.246590Z"
    }
   },
   "id": "ba9b7f34ba477873",
   "execution_count": 31
  },
  {
   "cell_type": "code",
   "outputs": [
    {
     "data": {
      "text/plain": "   Hours_Studied  Attendance Parental_Involvement Access_to_Resources  \\\n0             23          84                  Low                High   \n1             19          64                  Low              Medium   \n2             24          98               Medium              Medium   \n3             29          89                  Low              Medium   \n4             19          92               Medium              Medium   \n\n  Extracurricular_Activities  Sleep_Hours  Previous_Scores Motivation_Level  \\\n0                         No            7               73              Low   \n1                         No            8               59              Low   \n2                        Yes            7               91           Medium   \n3                        Yes            8               98           Medium   \n4                        Yes            6               65           Medium   \n\n  Internet_Access  Tutoring_Sessions Family_Income Teacher_Quality  \\\n0             Yes                  0           Low          Medium   \n1             Yes                  2        Medium          Medium   \n2             Yes                  2        Medium          Medium   \n3             Yes                  1        Medium          Medium   \n4             Yes                  3        Medium            High   \n\n  School_Type Peer_Influence  Physical_Activity Learning_Disabilities  \\\n0      Public       Positive                  3                    No   \n1      Public       Negative                  4                    No   \n2      Public        Neutral                  4                    No   \n3      Public       Negative                  4                    No   \n4      Public        Neutral                  4                    No   \n\n  Parental_Education_Level Distance_from_Home  Gender  Exam_Score  \n0              High School               Near    Male          67  \n1                  College           Moderate  Female          61  \n2             Postgraduate               Near    Male          74  \n3              High School           Moderate    Male          71  \n4                  College               Near  Female          70  ",
      "text/html": "<div>\n<style scoped>\n    .dataframe tbody tr th:only-of-type {\n        vertical-align: middle;\n    }\n\n    .dataframe tbody tr th {\n        vertical-align: top;\n    }\n\n    .dataframe thead th {\n        text-align: right;\n    }\n</style>\n<table border=\"1\" class=\"dataframe\">\n  <thead>\n    <tr style=\"text-align: right;\">\n      <th></th>\n      <th>Hours_Studied</th>\n      <th>Attendance</th>\n      <th>Parental_Involvement</th>\n      <th>Access_to_Resources</th>\n      <th>Extracurricular_Activities</th>\n      <th>Sleep_Hours</th>\n      <th>Previous_Scores</th>\n      <th>Motivation_Level</th>\n      <th>Internet_Access</th>\n      <th>Tutoring_Sessions</th>\n      <th>Family_Income</th>\n      <th>Teacher_Quality</th>\n      <th>School_Type</th>\n      <th>Peer_Influence</th>\n      <th>Physical_Activity</th>\n      <th>Learning_Disabilities</th>\n      <th>Parental_Education_Level</th>\n      <th>Distance_from_Home</th>\n      <th>Gender</th>\n      <th>Exam_Score</th>\n    </tr>\n  </thead>\n  <tbody>\n    <tr>\n      <th>0</th>\n      <td>23</td>\n      <td>84</td>\n      <td>Low</td>\n      <td>High</td>\n      <td>No</td>\n      <td>7</td>\n      <td>73</td>\n      <td>Low</td>\n      <td>Yes</td>\n      <td>0</td>\n      <td>Low</td>\n      <td>Medium</td>\n      <td>Public</td>\n      <td>Positive</td>\n      <td>3</td>\n      <td>No</td>\n      <td>High School</td>\n      <td>Near</td>\n      <td>Male</td>\n      <td>67</td>\n    </tr>\n    <tr>\n      <th>1</th>\n      <td>19</td>\n      <td>64</td>\n      <td>Low</td>\n      <td>Medium</td>\n      <td>No</td>\n      <td>8</td>\n      <td>59</td>\n      <td>Low</td>\n      <td>Yes</td>\n      <td>2</td>\n      <td>Medium</td>\n      <td>Medium</td>\n      <td>Public</td>\n      <td>Negative</td>\n      <td>4</td>\n      <td>No</td>\n      <td>College</td>\n      <td>Moderate</td>\n      <td>Female</td>\n      <td>61</td>\n    </tr>\n    <tr>\n      <th>2</th>\n      <td>24</td>\n      <td>98</td>\n      <td>Medium</td>\n      <td>Medium</td>\n      <td>Yes</td>\n      <td>7</td>\n      <td>91</td>\n      <td>Medium</td>\n      <td>Yes</td>\n      <td>2</td>\n      <td>Medium</td>\n      <td>Medium</td>\n      <td>Public</td>\n      <td>Neutral</td>\n      <td>4</td>\n      <td>No</td>\n      <td>Postgraduate</td>\n      <td>Near</td>\n      <td>Male</td>\n      <td>74</td>\n    </tr>\n    <tr>\n      <th>3</th>\n      <td>29</td>\n      <td>89</td>\n      <td>Low</td>\n      <td>Medium</td>\n      <td>Yes</td>\n      <td>8</td>\n      <td>98</td>\n      <td>Medium</td>\n      <td>Yes</td>\n      <td>1</td>\n      <td>Medium</td>\n      <td>Medium</td>\n      <td>Public</td>\n      <td>Negative</td>\n      <td>4</td>\n      <td>No</td>\n      <td>High School</td>\n      <td>Moderate</td>\n      <td>Male</td>\n      <td>71</td>\n    </tr>\n    <tr>\n      <th>4</th>\n      <td>19</td>\n      <td>92</td>\n      <td>Medium</td>\n      <td>Medium</td>\n      <td>Yes</td>\n      <td>6</td>\n      <td>65</td>\n      <td>Medium</td>\n      <td>Yes</td>\n      <td>3</td>\n      <td>Medium</td>\n      <td>High</td>\n      <td>Public</td>\n      <td>Neutral</td>\n      <td>4</td>\n      <td>No</td>\n      <td>College</td>\n      <td>Near</td>\n      <td>Female</td>\n      <td>70</td>\n    </tr>\n  </tbody>\n</table>\n</div>"
     },
     "execution_count": 32,
     "metadata": {},
     "output_type": "execute_result"
    }
   ],
   "source": [
    "data_imputed.head()"
   ],
   "metadata": {
    "collapsed": false,
    "ExecuteTime": {
     "end_time": "2024-10-24T09:10:54.432840Z",
     "start_time": "2024-10-24T09:10:54.421783Z"
    }
   },
   "id": "eb01fc65385e358c",
   "execution_count": 32
  },
  {
   "cell_type": "code",
   "outputs": [
    {
     "data": {
      "text/plain": "<Axes: ylabel='Hours_Studied'>"
     },
     "execution_count": 33,
     "metadata": {},
     "output_type": "execute_result"
    },
    {
     "data": {
      "text/plain": "<Figure size 640x480 with 1 Axes>",
      "image/png": "[encoded data removed]"
     },
     "metadata": {},
     "output_type": "display_data"
    }
   ],
   "source": [
    "sns.boxplot(data_imputed['Hours_Studied'])"
   ],
   "metadata": {
    "collapsed": false,
    "ExecuteTime": {
     "end_time": "2024-10-24T09:10:54.713898Z",
     "start_time": "2024-10-24T09:10:54.615397Z"
    }
   },
   "id": "cbf84ab1825375c9",
   "execution_count": 33
  },
  {
   "cell_type": "code",
   "outputs": [
    {
     "name": "stdout",
     "output_type": "stream",
     "text": [
      "(6607, 20)\n"
     ]
    }
   ],
   "source": [
    "def remove_outliers(handle_data, column_name):\n",
    "    Q1 = np.percentile(handle_data[column_name], 25, method='midpoint')\n",
    "    Q3 = np.percentile(handle_data[column_name], 75, method='midpoint')\n",
    "    IQR = Q3 - Q1\n",
    "    lower = Q1-1.5*IQR\n",
    "    upper = Q3+1.5*IQR\n",
    "    uppers = np.where(handle_data[column_name]>=upper)[0]\n",
    "    lowers = np.where(handle_data[column_name]<=lower)[0]\n",
    "    handle_data.drop(index=uppers, inplace=True, errors='ignore')\n",
    "    handle_data.drop(index=lowers, inplace=True, errors='ignore')\n",
    "    return handle_data\n",
    "print(data_imputed.shape)"
   ],
   "metadata": {
    "collapsed": false,
    "ExecuteTime": {
     "end_time": "2024-10-24T09:10:54.846896Z",
     "start_time": "2024-10-24T09:10:54.842160Z"
    }
   },
   "id": "87b53590c42e9b2",
   "execution_count": 34
  },
  {
   "cell_type": "code",
   "outputs": [
    {
     "data": {
      "text/plain": "(5967, 20)"
     },
     "execution_count": 35,
     "metadata": {},
     "output_type": "execute_result"
    }
   ],
   "source": [
    "data_imputed = (remove_outliers(data_imputed, 'Hours_Studied').pipe(remove_outliers, 'Attendance').pipe(remove_outliers, 'Sleep_Hours').pipe(remove_outliers, 'Previous_Scores').pipe(remove_outliers, 'Tutoring_Sessions').pipe(remove_outliers, 'Physical_Activity').pipe(remove_outliers, 'Exam_Score'))\n",
    "data_imputed.shape"
   ],
   "metadata": {
    "collapsed": false,
    "ExecuteTime": {
     "end_time": "2024-10-24T09:10:54.988362Z",
     "start_time": "2024-10-24T09:10:54.966101Z"
    }
   },
   "id": "fcd106f2743e6c18",
   "execution_count": 35
  },
  {
   "cell_type": "code",
   "outputs": [
    {
     "data": {
      "text/plain": "array(['Low', 'Medium', 'High'], dtype=object)"
     },
     "execution_count": 36,
     "metadata": {},
     "output_type": "execute_result"
    }
   ],
   "source": [
    "data_imputed['Parental_Involvement'].unique()"
   ],
   "metadata": {
    "collapsed": false,
    "ExecuteTime": {
     "end_time": "2024-10-24T09:10:55.148787Z",
     "start_time": "2024-10-24T09:10:55.143807Z"
    }
   },
   "id": "5c0573a456c03ec0",
   "execution_count": 36
  },
  {
   "cell_type": "code",
   "outputs": [
    {
     "data": {
      "text/plain": "   Hours_Studied  Attendance  Parental_Involvement  Access_to_Resources  \\\n0             23          84                     1                    0   \n1             19          64                     1                    2   \n2             24          98                     2                    2   \n3             29          89                     1                    2   \n4             19          92                     2                    2   \n\n  Extracurricular_Activities  Sleep_Hours  Previous_Scores  Motivation_Level  \\\n0                         No            7               73                 1   \n1                         No            8               59                 1   \n2                        Yes            7               91                 2   \n3                        Yes            8               98                 2   \n4                        Yes            6               65                 2   \n\n  Internet_Access  Tutoring_Sessions  Family_Income  Teacher_Quality  \\\n0             Yes                  0              1                2   \n1             Yes                  2              2                2   \n2             Yes                  2              2                2   \n3             Yes                  1              2                2   \n4             Yes                  3              2                0   \n\n  School_Type Peer_Influence  Physical_Activity Learning_Disabilities  \\\n0      Public       Positive                  3                    No   \n1      Public       Negative                  4                    No   \n2      Public        Neutral                  4                    No   \n3      Public       Negative                  4                    No   \n4      Public        Neutral                  4                    No   \n\n  Parental_Education_Level Distance_from_Home  Gender  Exam_Score  \n0              High School               Near    Male          67  \n1                  College           Moderate  Female          61  \n2             Postgraduate               Near    Male          74  \n3              High School           Moderate    Male          71  \n4                  College               Near  Female          70  ",
      "text/html": "<div>\n<style scoped>\n    .dataframe tbody tr th:only-of-type {\n        vertical-align: middle;\n    }\n\n    .dataframe tbody tr th {\n        vertical-align: top;\n    }\n\n    .dataframe thead th {\n        text-align: right;\n    }\n</style>\n<table border=\"1\" class=\"dataframe\">\n  <thead>\n    <tr style=\"text-align: right;\">\n      <th></th>\n      <th>Hours_Studied</th>\n      <th>Attendance</th>\n      <th>Parental_Involvement</th>\n      <th>Access_to_Resources</th>\n      <th>Extracurricular_Activities</th>\n      <th>Sleep_Hours</th>\n      <th>Previous_Scores</th>\n      <th>Motivation_Level</th>\n      <th>Internet_Access</th>\n      <th>Tutoring_Sessions</th>\n      <th>Family_Income</th>\n      <th>Teacher_Quality</th>\n      <th>School_Type</th>\n      <th>Peer_Influence</th>\n      <th>Physical_Activity</th>\n      <th>Learning_Disabilities</th>\n      <th>Parental_Education_Level</th>\n      <th>Distance_from_Home</th>\n      <th>Gender</th>\n      <th>Exam_Score</th>\n    </tr>\n  </thead>\n  <tbody>\n    <tr>\n      <th>0</th>\n      <td>23</td>\n      <td>84</td>\n      <td>1</td>\n      <td>0</td>\n      <td>No</td>\n      <td>7</td>\n      <td>73</td>\n      <td>1</td>\n      <td>Yes</td>\n      <td>0</td>\n      <td>1</td>\n      <td>2</td>\n      <td>Public</td>\n      <td>Positive</td>\n      <td>3</td>\n      <td>No</td>\n      <td>High School</td>\n      <td>Near</td>\n      <td>Male</td>\n      <td>67</td>\n    </tr>\n    <tr>\n      <th>1</th>\n      <td>19</td>\n      <td>64</td>\n      <td>1</td>\n      <td>2</td>\n      <td>No</td>\n      <td>8</td>\n      <td>59</td>\n      <td>1</td>\n      <td>Yes</td>\n      <td>2</td>\n      <td>2</td>\n      <td>2</td>\n      <td>Public</td>\n      <td>Negative</td>\n      <td>4</td>\n      <td>No</td>\n      <td>College</td>\n      <td>Moderate</td>\n      <td>Female</td>\n      <td>61</td>\n    </tr>\n    <tr>\n      <th>2</th>\n      <td>24</td>\n      <td>98</td>\n      <td>2</td>\n      <td>2</td>\n      <td>Yes</td>\n      <td>7</td>\n      <td>91</td>\n      <td>2</td>\n      <td>Yes</td>\n      <td>2</td>\n      <td>2</td>\n      <td>2</td>\n      <td>Public</td>\n      <td>Neutral</td>\n      <td>4</td>\n      <td>No</td>\n      <td>Postgraduate</td>\n      <td>Near</td>\n      <td>Male</td>\n      <td>74</td>\n    </tr>\n    <tr>\n      <th>3</th>\n      <td>29</td>\n      <td>89</td>\n      <td>1</td>\n      <td>2</td>\n      <td>Yes</td>\n      <td>8</td>\n      <td>98</td>\n      <td>2</td>\n      <td>Yes</td>\n      <td>1</td>\n      <td>2</td>\n      <td>2</td>\n      <td>Public</td>\n      <td>Negative</td>\n      <td>4</td>\n      <td>No</td>\n      <td>High School</td>\n      <td>Moderate</td>\n      <td>Male</td>\n      <td>71</td>\n    </tr>\n    <tr>\n      <th>4</th>\n      <td>19</td>\n      <td>92</td>\n      <td>2</td>\n      <td>2</td>\n      <td>Yes</td>\n      <td>6</td>\n      <td>65</td>\n      <td>2</td>\n      <td>Yes</td>\n      <td>3</td>\n      <td>2</td>\n      <td>0</td>\n      <td>Public</td>\n      <td>Neutral</td>\n      <td>4</td>\n      <td>No</td>\n      <td>College</td>\n      <td>Near</td>\n      <td>Female</td>\n      <td>70</td>\n    </tr>\n  </tbody>\n</table>\n</div>"
     },
     "execution_count": 37,
     "metadata": {},
     "output_type": "execute_result"
    }
   ],
   "source": [
    "from sklearn.preprocessing import LabelEncoder, OneHotEncoder\n",
    "le = LabelEncoder()\n",
    "one_hot = OneHotEncoder()\n",
    "ord_columns = ['Parental_Involvement', 'Access_to_Resources', 'Motivation_Level', 'Family_Income', 'Teacher_Quality']\n",
    "for column in ord_columns:\n",
    "    data_imputed[column] = le.fit_transform(data_imputed[column])\n",
    "data_imputed.head()"
   ],
   "metadata": {
    "collapsed": false,
    "ExecuteTime": {
     "end_time": "2024-10-24T09:10:55.356893Z",
     "start_time": "2024-10-24T09:10:55.342095Z"
    }
   },
   "id": "14401cf459cd6de3",
   "execution_count": 37
  },
  {
   "cell_type": "code",
   "outputs": [],
   "source": [
    "data_imputed = pd.get_dummies(data_imputed, columns=['Extracurricular_Activities', 'Internet_Access', 'School_Type', 'Peer_Influence', 'Learning_Disabilities', 'Parental_Education_Level', 'Distance_from_Home', 'Gender'])"
   ],
   "metadata": {
    "collapsed": false,
    "ExecuteTime": {
     "end_time": "2024-10-24T09:10:55.556274Z",
     "start_time": "2024-10-24T09:10:55.544045Z"
    }
   },
   "id": "7e2d060d85e7ec41",
   "execution_count": 38
  },
  {
   "cell_type": "code",
   "outputs": [
    {
     "data": {
      "text/plain": "   Hours_Studied  Attendance  Parental_Involvement  Access_to_Resources  \\\n0             23          84                     1                    0   \n1             19          64                     1                    2   \n2             24          98                     2                    2   \n3             29          89                     1                    2   \n4             19          92                     2                    2   \n\n   Sleep_Hours  Previous_Scores  Motivation_Level  Tutoring_Sessions  \\\n0            7               73                 1                  0   \n1            8               59                 1                  2   \n2            7               91                 2                  2   \n3            8               98                 2                  1   \n4            6               65                 2                  3   \n\n   Family_Income  Teacher_Quality  ...  Learning_Disabilities_No  \\\n0              1                2  ...                      True   \n1              2                2  ...                      True   \n2              2                2  ...                      True   \n3              2                2  ...                      True   \n4              2                0  ...                      True   \n\n   Learning_Disabilities_Yes  Parental_Education_Level_College  \\\n0                      False                             False   \n1                      False                              True   \n2                      False                             False   \n3                      False                             False   \n4                      False                              True   \n\n   Parental_Education_Level_High School  \\\n0                                  True   \n1                                 False   \n2                                 False   \n3                                  True   \n4                                 False   \n\n   Parental_Education_Level_Postgraduate  Distance_from_Home_Far  \\\n0                                  False                   False   \n1                                  False                   False   \n2                                   True                   False   \n3                                  False                   False   \n4                                  False                   False   \n\n   Distance_from_Home_Moderate  Distance_from_Home_Near  Gender_Female  \\\n0                        False                     True          False   \n1                         True                    False           True   \n2                        False                     True          False   \n3                         True                    False          False   \n4                        False                     True           True   \n\n   Gender_Male  \n0         True  \n1        False  \n2         True  \n3         True  \n4        False  \n\n[5 rows x 31 columns]",
      "text/html": "<div>\n<style scoped>\n    .dataframe tbody tr th:only-of-type {\n        vertical-align: middle;\n    }\n\n    .dataframe tbody tr th {\n        vertical-align: top;\n    }\n\n    .dataframe thead th {\n        text-align: right;\n    }\n</style>\n<table border=\"1\" class=\"dataframe\">\n  <thead>\n    <tr style=\"text-align: right;\">\n      <th></th>\n      <th>Hours_Studied</th>\n      <th>Attendance</th>\n      <th>Parental_Involvement</th>\n      <th>Access_to_Resources</th>\n      <th>Sleep_Hours</th>\n      <th>Previous_Scores</th>\n      <th>Motivation_Level</th>\n      <th>Tutoring_Sessions</th>\n      <th>Family_Income</th>\n      <th>Teacher_Quality</th>\n      <th>...</th>\n      <th>Learning_Disabilities_No</th>\n      <th>Learning_Disabilities_Yes</th>\n      <th>Parental_Education_Level_College</th>\n      <th>Parental_Education_Level_High School</th>\n      <th>Parental_Education_Level_Postgraduate</th>\n      <th>Distance_from_Home_Far</th>\n      <th>Distance_from_Home_Moderate</th>\n      <th>Distance_from_Home_Near</th>\n      <th>Gender_Female</th>\n      <th>Gender_Male</th>\n    </tr>\n  </thead>\n  <tbody>\n    <tr>\n      <th>0</th>\n      <td>23</td>\n      <td>84</td>\n      <td>1</td>\n      <td>0</td>\n      <td>7</td>\n      <td>73</td>\n      <td>1</td>\n      <td>0</td>\n      <td>1</td>\n      <td>2</td>\n      <td>...</td>\n      <td>True</td>\n      <td>False</td>\n      <td>False</td>\n      <td>True</td>\n      <td>False</td>\n      <td>False</td>\n      <td>False</td>\n      <td>True</td>\n      <td>False</td>\n      <td>True</td>\n    </tr>\n    <tr>\n      <th>1</th>\n      <td>19</td>\n      <td>64</td>\n      <td>1</td>\n      <td>2</td>\n      <td>8</td>\n      <td>59</td>\n      <td>1</td>\n      <td>2</td>\n      <td>2</td>\n      <td>2</td>\n      <td>...</td>\n      <td>True</td>\n      <td>False</td>\n      <td>True</td>\n      <td>False</td>\n      <td>False</td>\n      <td>False</td>\n      <td>True</td>\n      <td>False</td>\n      <td>True</td>\n      <td>False</td>\n    </tr>\n    <tr>\n      <th>2</th>\n      <td>24</td>\n      <td>98</td>\n      <td>2</td>\n      <td>2</td>\n      <td>7</td>\n      <td>91</td>\n      <td>2</td>\n      <td>2</td>\n      <td>2</td>\n      <td>2</td>\n      <td>...</td>\n      <td>True</td>\n      <td>False</td>\n      <td>False</td>\n      <td>False</td>\n      <td>True</td>\n      <td>False</td>\n      <td>False</td>\n      <td>True</td>\n      <td>False</td>\n      <td>True</td>\n    </tr>\n    <tr>\n      <th>3</th>\n      <td>29</td>\n      <td>89</td>\n      <td>1</td>\n      <td>2</td>\n      <td>8</td>\n      <td>98</td>\n      <td>2</td>\n      <td>1</td>\n      <td>2</td>\n      <td>2</td>\n      <td>...</td>\n      <td>True</td>\n      <td>False</td>\n      <td>False</td>\n      <td>True</td>\n      <td>False</td>\n      <td>False</td>\n      <td>True</td>\n      <td>False</td>\n      <td>False</td>\n      <td>True</td>\n    </tr>\n    <tr>\n      <th>4</th>\n      <td>19</td>\n      <td>92</td>\n      <td>2</td>\n      <td>2</td>\n      <td>6</td>\n      <td>65</td>\n      <td>2</td>\n      <td>3</td>\n      <td>2</td>\n      <td>0</td>\n      <td>...</td>\n      <td>True</td>\n      <td>False</td>\n      <td>True</td>\n      <td>False</td>\n      <td>False</td>\n      <td>False</td>\n      <td>False</td>\n      <td>True</td>\n      <td>True</td>\n      <td>False</td>\n    </tr>\n  </tbody>\n</table>\n<p>5 rows × 31 columns</p>\n</div>"
     },
     "execution_count": 39,
     "metadata": {},
     "output_type": "execute_result"
    }
   ],
   "source": [
    "data_imputed.head()"
   ],
   "metadata": {
    "collapsed": false,
    "ExecuteTime": {
     "end_time": "2024-10-24T09:10:55.683830Z",
     "start_time": "2024-10-24T09:10:55.671675Z"
    }
   },
   "id": "be25572287151b5f",
   "execution_count": 39
  },
  {
   "cell_type": "code",
   "outputs": [
    {
     "name": "stdout",
     "output_type": "stream",
     "text": [
      "<class 'pandas.core.frame.DataFrame'>\n",
      "Index: 5967 entries, 0 to 6606\n",
      "Data columns (total 31 columns):\n",
      " #   Column                                 Non-Null Count  Dtype\n",
      "---  ------                                 --------------  -----\n",
      " 0   Hours_Studied                          5967 non-null   int64\n",
      " 1   Attendance                             5967 non-null   int64\n",
      " 2   Parental_Involvement                   5967 non-null   int32\n",
      " 3   Access_to_Resources                    5967 non-null   int32\n",
      " 4   Sleep_Hours                            5967 non-null   int64\n",
      " 5   Previous_Scores                        5967 non-null   int64\n",
      " 6   Motivation_Level                       5967 non-null   int32\n",
      " 7   Tutoring_Sessions                      5967 non-null   int64\n",
      " 8   Family_Income                          5967 non-null   int32\n",
      " 9   Teacher_Quality                        5967 non-null   int32\n",
      " 10  Physical_Activity                      5967 non-null   int64\n",
      " 11  Exam_Score                             5967 non-null   int64\n",
      " 12  Extracurricular_Activities_No          5967 non-null   bool \n",
      " 13  Extracurricular_Activities_Yes         5967 non-null   bool \n",
      " 14  Internet_Access_No                     5967 non-null   bool \n",
      " 15  Internet_Access_Yes                    5967 non-null   bool \n",
      " 16  School_Type_Private                    5967 non-null   bool \n",
      " 17  School_Type_Public                     5967 non-null   bool \n",
      " 18  Peer_Influence_Negative                5967 non-null   bool \n",
      " 19  Peer_Influence_Neutral                 5967 non-null   bool \n",
      " 20  Peer_Influence_Positive                5967 non-null   bool \n",
      " 21  Learning_Disabilities_No               5967 non-null   bool \n",
      " 22  Learning_Disabilities_Yes              5967 non-null   bool \n",
      " 23  Parental_Education_Level_College       5967 non-null   bool \n",
      " 24  Parental_Education_Level_High School   5967 non-null   bool \n",
      " 25  Parental_Education_Level_Postgraduate  5967 non-null   bool \n",
      " 26  Distance_from_Home_Far                 5967 non-null   bool \n",
      " 27  Distance_from_Home_Moderate            5967 non-null   bool \n",
      " 28  Distance_from_Home_Near                5967 non-null   bool \n",
      " 29  Gender_Female                          5967 non-null   bool \n",
      " 30  Gender_Male                            5967 non-null   bool \n",
      "dtypes: bool(19), int32(5), int64(7)\n",
      "memory usage: 600.2 KB\n"
     ]
    }
   ],
   "source": [
    "data_imputed.info()"
   ],
   "metadata": {
    "collapsed": false,
    "ExecuteTime": {
     "end_time": "2024-10-24T09:10:55.883141Z",
     "start_time": "2024-10-24T09:10:55.875027Z"
    }
   },
   "id": "b2c2c8d1f1e7e73c",
   "execution_count": 40
  },
  {
   "cell_type": "code",
   "outputs": [],
   "source": [
    "from sklearn.preprocessing import MinMaxScaler\n",
    "scaler = MinMaxScaler()\n",
    "y = data_imputed['Exam_Score']\n",
    "data_imputed = data_imputed.drop(columns=['Exam_Score'])\n",
    "data_imputed[data_imputed.columns] = scaler.fit_transform(data_imputed[data_imputed.columns])\n",
    "data_imputed = pd.concat([data_imputed, y], axis=1)"
   ],
   "metadata": {
    "collapsed": false,
    "ExecuteTime": {
     "end_time": "2024-10-24T09:10:56.056561Z",
     "start_time": "2024-10-24T09:10:56.041338Z"
    }
   },
   "id": "89073fb31ffc4839",
   "execution_count": 41
  },
  {
   "cell_type": "code",
   "outputs": [],
   "source": [
    "data_imputed.to_csv(\"../data/StudentPerformanceFactorsCleaned.csv\", index=False)"
   ],
   "metadata": {
    "collapsed": false,
    "ExecuteTime": {
     "end_time": "2024-10-24T09:10:56.302561Z",
     "start_time": "2024-10-24T09:10:56.215598Z"
    }
   },
   "id": "360d30b4724b7df4",
   "execution_count": 42
  },
  {
   "cell_type": "code",
   "outputs": [
    {
     "data": {
      "text/plain": "Index(['Hours_Studied', 'Attendance', 'Parental_Involvement',\n       'Access_to_Resources', 'Sleep_Hours', 'Previous_Scores',\n       'Motivation_Level', 'Tutoring_Sessions', 'Family_Income',\n       'Teacher_Quality', 'Physical_Activity', 'Extracurricular_Activities_No',\n       'Extracurricular_Activities_Yes', 'Internet_Access_No',\n       'Internet_Access_Yes', 'School_Type_Private', 'School_Type_Public',\n       'Peer_Influence_Negative', 'Peer_Influence_Neutral',\n       'Peer_Influence_Positive', 'Learning_Disabilities_No',\n       'Learning_Disabilities_Yes', 'Parental_Education_Level_College',\n       'Parental_Education_Level_High School',\n       'Parental_Education_Level_Postgraduate', 'Distance_from_Home_Far',\n       'Distance_from_Home_Moderate', 'Distance_from_Home_Near',\n       'Gender_Female', 'Gender_Male', 'Exam_Score'],\n      dtype='object')"
     },
     "execution_count": 43,
     "metadata": {},
     "output_type": "execute_result"
    }
   ],
   "source": [
    "data_imputed.columns"
   ],
   "metadata": {
    "collapsed": false,
    "ExecuteTime": {
     "end_time": "2024-10-24T09:10:56.395535Z",
     "start_time": "2024-10-24T09:10:56.391101Z"
    }
   },
   "id": "39cde9c85a187bd9",
   "execution_count": 43
  },
  {
   "cell_type": "code",
   "outputs": [],
   "source": [],
   "metadata": {
    "collapsed": false,
    "ExecuteTime": {
     "end_time": "2024-10-24T09:10:56.627030Z",
     "start_time": "2024-10-24T09:10:56.624699Z"
    }
   },
   "id": "9405c7d09b3cec0e",
   "execution_count": 43
  },
  {
   "cell_type": "code",
   "outputs": [],
   "source": [],
   "metadata": {
    "collapsed": false
   },
   "id": "ca99391c9b3ad7b8"
  }
 ],
 "metadata": {
  "kernelspec": {
   "display_name": "Python 3",
   "language": "python",
   "name": "python3"
  },
  "language_info": {
   "codemirror_mode": {
    "name": "ipython",
    "version": 2
   },
   "file_extension": ".py",
   "mimetype": "text/x-python",
   "name": "python",
   "nbconvert_exporter": "python",
   "pygments_lexer": "ipython2",
   "version": "2.7.6"
  }
 },
 "nbformat": 4,
 "nbformat_minor": 5
}
