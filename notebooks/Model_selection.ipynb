{
 "cells": [
  {
   "cell_type": "code",
   "execution_count": 1,
   "id": "initial_id",
   "metadata": {
    "collapsed": true,
    "ExecuteTime": {
     "end_time": "2024-11-04T14:29:36.667985Z",
     "start_time": "2024-11-04T14:29:35.244239Z"
    }
   },
   "outputs": [],
   "source": [
    "import pandas as pd\n",
    "import numpy as np\n",
    "from sklearn.model_selection import train_test_split, GridSearchCV\n",
    "from sklearn.metrics import accuracy_score, root_mean_squared_error\n",
    "from sklearn.pipeline import Pipeline\n",
    "from sklearn.decomposition import PCA\n",
    "from sklearn.ensemble import RandomForestRegressor\n",
    "from sklearn.svm import SVR\n",
    "from sklearn.linear_model import LogisticRegression"
   ]
  },
  {
   "cell_type": "code",
   "outputs": [
    {
     "data": {
      "text/plain": "   Hours_Studied  Attendance  Parental_Involvement  Access_to_Resources  \\\n0       0.600000       0.600                   0.5                  0.0   \n1       0.466667       0.100                   0.5                  1.0   \n2       0.633333       0.950                   1.0                  1.0   \n3       0.800000       0.725                   0.5                  1.0   \n4       0.466667       0.800                   1.0                  1.0   \n\n   Sleep_Hours  Previous_Scores  Motivation_Level  Tutoring_Sessions  \\\n0     0.500000             0.46               0.5              0.000   \n1     0.666667             0.18               0.5              0.250   \n2     0.500000             0.82               1.0              0.250   \n3     0.666667             0.96               1.0              0.125   \n4     0.333333             0.30               1.0              0.375   \n\n   Family_Income  Teacher_Quality  ...  Learning_Disabilities_No  \\\n0            0.5              1.0  ...                       1.0   \n1            1.0              1.0  ...                       1.0   \n2            1.0              1.0  ...                       1.0   \n3            1.0              1.0  ...                       1.0   \n4            1.0              0.0  ...                       1.0   \n\n   Learning_Disabilities_Yes  Parental_Education_Level_College  \\\n0                        0.0                               0.0   \n1                        0.0                               1.0   \n2                        0.0                               0.0   \n3                        0.0                               0.0   \n4                        0.0                               1.0   \n\n   Parental_Education_Level_High School  \\\n0                                   1.0   \n1                                   0.0   \n2                                   0.0   \n3                                   1.0   \n4                                   0.0   \n\n   Parental_Education_Level_Postgraduate  Distance_from_Home_Far  \\\n0                                    0.0                     0.0   \n1                                    0.0                     0.0   \n2                                    1.0                     0.0   \n3                                    0.0                     0.0   \n4                                    0.0                     0.0   \n\n   Distance_from_Home_Moderate  Distance_from_Home_Near  Gender_Female  \\\n0                          0.0                      1.0            0.0   \n1                          1.0                      0.0            1.0   \n2                          0.0                      1.0            0.0   \n3                          1.0                      0.0            0.0   \n4                          0.0                      1.0            1.0   \n\n   Gender_Male  \n0          1.0  \n1          0.0  \n2          1.0  \n3          1.0  \n4          0.0  \n\n[5 rows x 30 columns]",
      "text/html": "<div>\n<style scoped>\n    .dataframe tbody tr th:only-of-type {\n        vertical-align: middle;\n    }\n\n    .dataframe tbody tr th {\n        vertical-align: top;\n    }\n\n    .dataframe thead th {\n        text-align: right;\n    }\n</style>\n<table border=\"1\" class=\"dataframe\">\n  <thead>\n    <tr style=\"text-align: right;\">\n      <th></th>\n      <th>Hours_Studied</th>\n      <th>Attendance</th>\n      <th>Parental_Involvement</th>\n      <th>Access_to_Resources</th>\n      <th>Sleep_Hours</th>\n      <th>Previous_Scores</th>\n      <th>Motivation_Level</th>\n      <th>Tutoring_Sessions</th>\n      <th>Family_Income</th>\n      <th>Teacher_Quality</th>\n      <th>...</th>\n      <th>Learning_Disabilities_No</th>\n      <th>Learning_Disabilities_Yes</th>\n      <th>Parental_Education_Level_College</th>\n      <th>Parental_Education_Level_High School</th>\n      <th>Parental_Education_Level_Postgraduate</th>\n      <th>Distance_from_Home_Far</th>\n      <th>Distance_from_Home_Moderate</th>\n      <th>Distance_from_Home_Near</th>\n      <th>Gender_Female</th>\n      <th>Gender_Male</th>\n    </tr>\n  </thead>\n  <tbody>\n    <tr>\n      <th>0</th>\n      <td>0.600000</td>\n      <td>0.600</td>\n      <td>0.5</td>\n      <td>0.0</td>\n      <td>0.500000</td>\n      <td>0.46</td>\n      <td>0.5</td>\n      <td>0.000</td>\n      <td>0.5</td>\n      <td>1.0</td>\n      <td>...</td>\n      <td>1.0</td>\n      <td>0.0</td>\n      <td>0.0</td>\n      <td>1.0</td>\n      <td>0.0</td>\n      <td>0.0</td>\n      <td>0.0</td>\n      <td>1.0</td>\n      <td>0.0</td>\n      <td>1.0</td>\n    </tr>\n    <tr>\n      <th>1</th>\n      <td>0.466667</td>\n      <td>0.100</td>\n      <td>0.5</td>\n      <td>1.0</td>\n      <td>0.666667</td>\n      <td>0.18</td>\n      <td>0.5</td>\n      <td>0.250</td>\n      <td>1.0</td>\n      <td>1.0</td>\n      <td>...</td>\n      <td>1.0</td>\n      <td>0.0</td>\n      <td>1.0</td>\n      <td>0.0</td>\n      <td>0.0</td>\n      <td>0.0</td>\n      <td>1.0</td>\n      <td>0.0</td>\n      <td>1.0</td>\n      <td>0.0</td>\n    </tr>\n    <tr>\n      <th>2</th>\n      <td>0.633333</td>\n      <td>0.950</td>\n      <td>1.0</td>\n      <td>1.0</td>\n      <td>0.500000</td>\n      <td>0.82</td>\n      <td>1.0</td>\n      <td>0.250</td>\n      <td>1.0</td>\n      <td>1.0</td>\n      <td>...</td>\n      <td>1.0</td>\n      <td>0.0</td>\n      <td>0.0</td>\n      <td>0.0</td>\n      <td>1.0</td>\n      <td>0.0</td>\n      <td>0.0</td>\n      <td>1.0</td>\n      <td>0.0</td>\n      <td>1.0</td>\n    </tr>\n    <tr>\n      <th>3</th>\n      <td>0.800000</td>\n      <td>0.725</td>\n      <td>0.5</td>\n      <td>1.0</td>\n      <td>0.666667</td>\n      <td>0.96</td>\n      <td>1.0</td>\n      <td>0.125</td>\n      <td>1.0</td>\n      <td>1.0</td>\n      <td>...</td>\n      <td>1.0</td>\n      <td>0.0</td>\n      <td>0.0</td>\n      <td>1.0</td>\n      <td>0.0</td>\n      <td>0.0</td>\n      <td>1.0</td>\n      <td>0.0</td>\n      <td>0.0</td>\n      <td>1.0</td>\n    </tr>\n    <tr>\n      <th>4</th>\n      <td>0.466667</td>\n      <td>0.800</td>\n      <td>1.0</td>\n      <td>1.0</td>\n      <td>0.333333</td>\n      <td>0.30</td>\n      <td>1.0</td>\n      <td>0.375</td>\n      <td>1.0</td>\n      <td>0.0</td>\n      <td>...</td>\n      <td>1.0</td>\n      <td>0.0</td>\n      <td>1.0</td>\n      <td>0.0</td>\n      <td>0.0</td>\n      <td>0.0</td>\n      <td>0.0</td>\n      <td>1.0</td>\n      <td>1.0</td>\n      <td>0.0</td>\n    </tr>\n  </tbody>\n</table>\n<p>5 rows × 30 columns</p>\n</div>"
     },
     "execution_count": 2,
     "metadata": {},
     "output_type": "execute_result"
    }
   ],
   "source": [
    "data = pd.read_csv('../data/StudentPerformanceFactorsCleaned.csv')\n",
    "y = data['Exam_Score']\n",
    "X = data.drop(columns=['Exam_Score'], axis=1)\n",
    "X.head()"
   ],
   "metadata": {
    "collapsed": false,
    "ExecuteTime": {
     "end_time": "2024-11-04T14:29:39.608048Z",
     "start_time": "2024-11-04T14:29:39.546562Z"
    }
   },
   "id": "74d936390ea1be14",
   "execution_count": 2
  },
  {
   "cell_type": "code",
   "outputs": [],
   "source": [
    "pca = PCA(n_components=15)\n",
    "data_transformed = pca.fit_transform(X)\n",
    "data_transformed = pd.DataFrame(data_transformed)"
   ],
   "metadata": {
    "collapsed": false,
    "ExecuteTime": {
     "end_time": "2024-11-04T14:29:40.561662Z",
     "start_time": "2024-11-04T14:29:40.518590Z"
    }
   },
   "id": "75f93977f5564589",
   "execution_count": 3
  },
  {
   "cell_type": "code",
   "outputs": [],
   "source": [
    "X_train, X_test, y_train, y_test = train_test_split(X, y, test_size=0.3, random_state=42)"
   ],
   "metadata": {
    "collapsed": false,
    "ExecuteTime": {
     "end_time": "2024-11-04T14:29:41.546873Z",
     "start_time": "2024-11-04T14:29:41.539847Z"
    }
   },
   "id": "b0fababe4d19a4e4",
   "execution_count": 4
  },
  {
   "cell_type": "code",
   "outputs": [
    {
     "name": "stdout",
     "output_type": "stream",
     "text": [
      "Fitting 5 folds for each of 500 candidates, totalling 2500 fits\n"
     ]
    },
    {
     "name": "stderr",
     "output_type": "stream",
     "text": [
      "C:\\Program Files\\Python311\\Lib\\site-packages\\sklearn\\model_selection\\_validation.py:547: FitFailedWarning: \n",
      "1000 fits failed out of a total of 2500.\n",
      "The score on these train-test partitions for these parameters will be set to nan.\n",
      "If these failures are not expected, you can try to debug them by setting error_score='raise'.\n",
      "\n",
      "Below are more details about the failures:\n",
      "--------------------------------------------------------------------------------\n",
      "500 fits failed with the following error:\n",
      "Traceback (most recent call last):\n",
      "  File \"C:\\Program Files\\Python311\\Lib\\site-packages\\sklearn\\model_selection\\_validation.py\", line 895, in _fit_and_score\n",
      "    estimator.fit(X_train, y_train, **fit_params)\n",
      "  File \"C:\\Program Files\\Python311\\Lib\\site-packages\\sklearn\\base.py\", line 1467, in wrapper\n",
      "    estimator._validate_params()\n",
      "  File \"C:\\Program Files\\Python311\\Lib\\site-packages\\sklearn\\base.py\", line 666, in _validate_params\n",
      "    validate_parameter_constraints(\n",
      "  File \"C:\\Program Files\\Python311\\Lib\\site-packages\\sklearn\\utils\\_param_validation.py\", line 95, in validate_parameter_constraints\n",
      "    raise InvalidParameterError(\n",
      "sklearn.utils._param_validation.InvalidParameterError: The 'max_features' parameter of RandomForestRegressor must be an int in the range [1, inf), a float in the range (0.0, 1.0], a str among {'sqrt', 'log2'} or None. Got 2.0 instead.\n",
      "\n",
      "--------------------------------------------------------------------------------\n",
      "500 fits failed with the following error:\n",
      "Traceback (most recent call last):\n",
      "  File \"C:\\Program Files\\Python311\\Lib\\site-packages\\sklearn\\model_selection\\_validation.py\", line 895, in _fit_and_score\n",
      "    estimator.fit(X_train, y_train, **fit_params)\n",
      "  File \"C:\\Program Files\\Python311\\Lib\\site-packages\\sklearn\\base.py\", line 1467, in wrapper\n",
      "    estimator._validate_params()\n",
      "  File \"C:\\Program Files\\Python311\\Lib\\site-packages\\sklearn\\base.py\", line 666, in _validate_params\n",
      "    validate_parameter_constraints(\n",
      "  File \"C:\\Program Files\\Python311\\Lib\\site-packages\\sklearn\\utils\\_param_validation.py\", line 95, in validate_parameter_constraints\n",
      "    raise InvalidParameterError(\n",
      "sklearn.utils._param_validation.InvalidParameterError: The 'max_features' parameter of RandomForestRegressor must be an int in the range [1, inf), a float in the range (0.0, 1.0], a str among {'sqrt', 'log2'} or None. Got 2.5 instead.\n",
      "\n",
      "  warnings.warn(some_fits_failed_message, FitFailedWarning)\n",
      "C:\\Program Files\\Python311\\Lib\\site-packages\\sklearn\\model_selection\\_search.py:1051: UserWarning: One or more of the test scores are non-finite: [-2.80211118 -2.81686417 -2.79411877 -2.78880137 -2.79795463 -2.78923334\n",
      " -2.79949949 -2.79470517 -2.79334916 -2.79379954 -2.80244593 -2.79380536\n",
      " -2.80353878 -2.79674558 -2.78903766 -2.79899042 -2.79647399 -2.79459156\n",
      " -2.78823517 -2.80258926 -2.89884883 -2.91280045 -2.90089743 -2.90852297\n",
      " -2.90706785 -2.91059979 -2.91052431 -2.91844222 -2.91521584 -2.90042577\n",
      " -2.89818177 -2.90674659 -2.90783933 -2.89943989 -2.90121152 -2.92805442\n",
      " -2.9011207  -2.89207843 -2.89911162 -2.9031986  -2.50052607 -2.49710329\n",
      " -2.49547873 -2.49716073 -2.49481222 -2.48432715 -2.48515613 -2.48500542\n",
      " -2.4858552  -2.4868285  -2.48753273 -2.4828059  -2.48394308 -2.48086919\n",
      " -2.4837145  -2.48416489 -2.48152494 -2.4832077  -2.48025145 -2.47957981\n",
      "         nan         nan         nan         nan         nan         nan\n",
      "         nan         nan         nan         nan         nan         nan\n",
      "         nan         nan         nan         nan         nan         nan\n",
      "         nan         nan         nan         nan         nan         nan\n",
      "         nan         nan         nan         nan         nan         nan\n",
      "         nan         nan         nan         nan         nan         nan\n",
      "         nan         nan         nan         nan -2.40753474 -2.40769896\n",
      " -2.40583189 -2.39813815 -2.40292172 -2.3973055  -2.3972844  -2.39871663\n",
      " -2.39621743 -2.39280874 -2.41353844 -2.40552903 -2.39685639 -2.40630361\n",
      " -2.40043898 -2.42178636 -2.41274318 -2.41018322 -2.41241784 -2.4147234\n",
      " -2.51800248 -2.49843834 -2.4889067  -2.49169706 -2.49747752 -2.50330456\n",
      " -2.49408003 -2.48408735 -2.49716645 -2.49606215 -2.49609486 -2.50796564\n",
      " -2.50593826 -2.49629945 -2.50567488 -2.50639158 -2.51751558 -2.51127098\n",
      " -2.51539285 -2.5124414  -2.33392446 -2.31640027 -2.31684077 -2.3138565\n",
      " -2.3159016  -2.28601013 -2.28285387 -2.28335211 -2.27789881 -2.27917968\n",
      " -2.275225   -2.26584404 -2.26934991 -2.2695564  -2.26791106 -2.26970354\n",
      " -2.26332135 -2.26263308 -2.26494372 -2.26026768         nan         nan\n",
      "         nan         nan         nan         nan         nan         nan\n",
      "         nan         nan         nan         nan         nan         nan\n",
      "         nan         nan         nan         nan         nan         nan\n",
      "         nan         nan         nan         nan         nan         nan\n",
      "         nan         nan         nan         nan         nan         nan\n",
      "         nan         nan         nan         nan         nan         nan\n",
      "         nan         nan -2.33689451 -2.31003366 -2.31334436 -2.31753671\n",
      " -2.31503891 -2.32982759 -2.33206004 -2.32613534 -2.32760781 -2.32332093\n",
      " -2.363702   -2.3481844  -2.34514401 -2.34630198 -2.35036947 -2.37594283\n",
      " -2.37841657 -2.37282487 -2.36516805 -2.36900495 -2.40652621 -2.39018455\n",
      " -2.39628364 -2.39103218 -2.38952279 -2.43336603 -2.40822773 -2.40383665\n",
      " -2.41896279 -2.4140316  -2.43952926 -2.43714508 -2.43459101 -2.43540788\n",
      " -2.44341031 -2.47666535 -2.45638807 -2.46675812 -2.45539456 -2.45502264\n",
      " -2.29700626 -2.28721744 -2.27730751 -2.28872228 -2.28452315 -2.26139388\n",
      " -2.25827133 -2.25664564 -2.2545935  -2.25349897 -2.25007561 -2.25086172\n",
      " -2.2464372  -2.24623969 -2.24674951 -2.25286284 -2.24836553 -2.25044179\n",
      " -2.250069   -2.24824794         nan         nan         nan         nan\n",
      "         nan         nan         nan         nan         nan         nan\n",
      "         nan         nan         nan         nan         nan         nan\n",
      "         nan         nan         nan         nan         nan         nan\n",
      "         nan         nan         nan         nan         nan         nan\n",
      "         nan         nan         nan         nan         nan         nan\n",
      "         nan         nan         nan         nan         nan         nan\n",
      " -2.32251474 -2.31361721 -2.31448894 -2.3118664  -2.31125221 -2.34079061\n",
      " -2.32976213 -2.32759409 -2.3327691  -2.32762119 -2.35157933 -2.3532129\n",
      " -2.34805329 -2.34926954 -2.35026737 -2.38605395 -2.36605603 -2.37146568\n",
      " -2.36509043 -2.36842953 -2.39644698 -2.39374621 -2.38473513 -2.38753989\n",
      " -2.3874458  -2.42163773 -2.41306707 -2.41255501 -2.41205553 -2.40893447\n",
      " -2.44757541 -2.43899527 -2.43410322 -2.436792   -2.43671607 -2.47919486\n",
      " -2.46210654 -2.46081721 -2.45954433 -2.45702215 -2.29955342 -2.28812654\n",
      " -2.28499531 -2.2803075  -2.28347588 -2.26025479 -2.25656788 -2.25756253\n",
      " -2.25245436 -2.25216213 -2.25292857 -2.24847022 -2.24784051 -2.24530838\n",
      " -2.24554555 -2.25393539 -2.25209784 -2.24632003 -2.24878123 -2.24609268\n",
      "         nan         nan         nan         nan         nan         nan\n",
      "         nan         nan         nan         nan         nan         nan\n",
      "         nan         nan         nan         nan         nan         nan\n",
      "         nan         nan         nan         nan         nan         nan\n",
      "         nan         nan         nan         nan         nan         nan\n",
      "         nan         nan         nan         nan         nan         nan\n",
      "         nan         nan         nan         nan -2.32879119 -2.32126995\n",
      " -2.31394534 -2.31096531 -2.31492171 -2.33196395 -2.33458331 -2.3271988\n",
      " -2.32692099 -2.32518304 -2.36194154 -2.35027545 -2.34882598 -2.34937174\n",
      " -2.34752963 -2.38007092 -2.36901001 -2.36750494 -2.37836774 -2.37042924\n",
      " -2.39811624 -2.40025676 -2.39436835 -2.38636984 -2.39041707 -2.4074606\n",
      " -2.41801487 -2.41647915 -2.41441177 -2.41492042 -2.44198743 -2.43925553\n",
      " -2.44476386 -2.44182331 -2.43279938 -2.47803306 -2.45767787 -2.46653884\n",
      " -2.46042376 -2.4597995  -2.30430976 -2.28459247 -2.28692014 -2.28214891\n",
      " -2.28191584 -2.26171893 -2.25832942 -2.2508138  -2.25620991 -2.24930945\n",
      " -2.25331778 -2.25030704 -2.24792682 -2.24986298 -2.24531742 -2.25265742\n",
      " -2.25310937 -2.24976192 -2.24864166 -2.24800645         nan         nan\n",
      "         nan         nan         nan         nan         nan         nan\n",
      "         nan         nan         nan         nan         nan         nan\n",
      "         nan         nan         nan         nan         nan         nan\n",
      "         nan         nan         nan         nan         nan         nan\n",
      "         nan         nan         nan         nan         nan         nan\n",
      "         nan         nan         nan         nan         nan         nan\n",
      "         nan         nan]\n",
      "  warnings.warn(\n"
     ]
    },
    {
     "name": "stdout",
     "output_type": "stream",
     "text": [
      "Random Forest\n"
     ]
    }
   ],
   "source": [
    "# Random Forest\n",
    "rf = RandomForestRegressor()\n",
    "rfclf = GridSearchCV(rf, {'n_estimators': [100, 200, 300, 400, 500], 'max_depth': [5, 10, 20, 30, 40], 'min_samples_leaf':[1,2,3,4], 'max_features':['sqrt', 'log2', 1.0, 2.0, 2.5]}, verbose=1, scoring='neg_root_mean_squared_error')\n",
    "rfclf.fit(X_train, y_train)\n",
    "print('Random Forest')\n"
   ],
   "metadata": {
    "collapsed": false,
    "ExecuteTime": {
     "end_time": "2024-11-04T15:06:32.817423Z",
     "start_time": "2024-11-04T14:30:05.915420Z"
    }
   },
   "id": "da08f5ded8a789ca",
   "execution_count": 5
  },
  {
   "cell_type": "code",
   "outputs": [],
   "source": [
    "df = pd.DataFrame(rfclf.cv_results_)\n",
    "df = df.sort_values(by='rank_test_score')\n",
    "df.to_csv('../results/RandomForestResults.csv')"
   ],
   "metadata": {
    "collapsed": false,
    "ExecuteTime": {
     "end_time": "2024-11-04T15:47:58.299586Z",
     "start_time": "2024-11-04T15:47:58.286799Z"
    }
   },
   "id": "e197bf28002ba5f8",
   "execution_count": 9
  },
  {
   "cell_type": "code",
   "outputs": [
    {
     "name": "stdout",
     "output_type": "stream",
     "text": [
      "Fitting 5 folds for each of 32 candidates, totalling 160 fits\n",
      "SVM\n"
     ]
    }
   ],
   "source": [
    "# SVM\n",
    "svm = SVR()\n",
    "clf = GridSearchCV(svm, {'C': [1, 10, 100, 1000], 'gamma': [0.001, 0.0001], 'kernel':[\n",
    "    'rbf', 'linear', 'poly', 'sigmoid'\n",
    "]}, verbose=1, scoring='neg_root_mean_squared_error')\n",
    "clf.fit(X_train, y_train)\n",
    "print('SVM')\n"
   ],
   "metadata": {
    "collapsed": false,
    "ExecuteTime": {
     "end_time": "2024-11-04T15:47:58.285794Z",
     "start_time": "2024-11-04T15:36:16.224227Z"
    }
   },
   "id": "a9cb6f3ee8ffc352",
   "execution_count": 8
  },
  {
   "cell_type": "code",
   "outputs": [],
   "source": [
    "df = pd.DataFrame(clf.cv_results_)\n",
    "df = df.sort_values(by='rank_test_score')\n",
    "df.to_csv('../results/SVM_Results.csv')"
   ],
   "metadata": {
    "collapsed": false,
    "ExecuteTime": {
     "end_time": "2024-11-04T16:57:45.112939Z",
     "start_time": "2024-11-04T16:57:45.105228Z"
    }
   },
   "id": "561525a741579b05",
   "execution_count": 10
  },
  {
   "cell_type": "code",
   "outputs": [
    {
     "name": "stdout",
     "output_type": "stream",
     "text": [
      "Fitting 5 folds for each of 16 candidates, totalling 80 fits\n"
     ]
    },
    {
     "name": "stderr",
     "output_type": "stream",
     "text": [
      "C:\\Program Files\\Python311\\Lib\\site-packages\\sklearn\\model_selection\\_split.py:737: UserWarning: The least populated class in y has only 1 members, which is less than n_splits=5.\n",
      "  warnings.warn(\n"
     ]
    }
   ],
   "source": [
    "# Logistic Regression\n",
    "linear = LogisticRegression(max_iter=1000)\n",
    "lrclf = GridSearchCV(linear, {'C': [1, 10, 100, 1000], 'solver':['liblinear', 'sag', 'saga', 'newton-cg']}, verbose=1, scoring='neg_root_mean_squared_error')\n",
    "lrclf.fit(X_train, y_train)\n",
    "print('Logistic Regression')\n",
    "print('Best Parameters:', lrclf.best_params_)"
   ],
   "metadata": {
    "collapsed": false,
    "is_executing": true,
    "ExecuteTime": {
     "start_time": "2024-10-28T21:36:50.902726Z"
    }
   },
   "id": "ecf6028aca027670",
   "execution_count": null
  },
  {
   "cell_type": "code",
   "outputs": [],
   "source": [],
   "metadata": {
    "collapsed": false
   },
   "id": "f180fe5968f11432"
  }
 ],
 "metadata": {
  "kernelspec": {
   "display_name": "Python 3",
   "language": "python",
   "name": "python3"
  },
  "language_info": {
   "codemirror_mode": {
    "name": "ipython",
    "version": 2
   },
   "file_extension": ".py",
   "mimetype": "text/x-python",
   "name": "python",
   "nbconvert_exporter": "python",
   "pygments_lexer": "ipython2",
   "version": "2.7.6"
  }
 },
 "nbformat": 4,
 "nbformat_minor": 5
}
