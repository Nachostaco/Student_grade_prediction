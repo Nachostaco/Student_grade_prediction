{
 "cells": [
  {
   "cell_type": "code",
   "execution_count": 1,
   "id": "initial_id",
   "metadata": {
    "collapsed": true,
    "ExecuteTime": {
     "end_time": "2024-11-05T19:47:28.143963Z",
     "start_time": "2024-11-05T19:47:26.614030Z"
    }
   },
   "outputs": [],
   "source": [
    "import pandas as pd\n",
    "import numpy as np\n",
    "from sklearn.model_selection import train_test_split, GridSearchCV\n",
    "from sklearn.metrics import accuracy_score, root_mean_squared_error\n",
    "from sklearn.pipeline import Pipeline\n",
    "from sklearn.decomposition import PCA\n",
    "from sklearn.ensemble import RandomForestRegressor\n",
    "from sklearn.svm import SVR\n",
    "from sklearn.linear_model import LogisticRegression"
   ]
  },
  {
   "cell_type": "code",
   "outputs": [
    {
     "data": {
      "text/plain": "   Hours_Studied  Attendance  Parental_Involvement  Access_to_Resources  \\\n0       0.600000       0.600                   0.5                  0.0   \n1       0.466667       0.100                   0.5                  1.0   \n2       0.633333       0.950                   1.0                  1.0   \n3       0.800000       0.725                   0.5                  1.0   \n4       0.466667       0.800                   1.0                  1.0   \n\n   Sleep_Hours  Previous_Scores  Motivation_Level  Tutoring_Sessions  \\\n0     0.500000             0.46               0.5              0.000   \n1     0.666667             0.18               0.5              0.250   \n2     0.500000             0.82               1.0              0.250   \n3     0.666667             0.96               1.0              0.125   \n4     0.333333             0.30               1.0              0.375   \n\n   Family_Income  Teacher_Quality  ...  Learning_Disabilities_No  \\\n0            0.5              1.0  ...                       1.0   \n1            1.0              1.0  ...                       1.0   \n2            1.0              1.0  ...                       1.0   \n3            1.0              1.0  ...                       1.0   \n4            1.0              0.0  ...                       1.0   \n\n   Learning_Disabilities_Yes  Parental_Education_Level_College  \\\n0                        0.0                               0.0   \n1                        0.0                               1.0   \n2                        0.0                               0.0   \n3                        0.0                               0.0   \n4                        0.0                               1.0   \n\n   Parental_Education_Level_High School  \\\n0                                   1.0   \n1                                   0.0   \n2                                   0.0   \n3                                   1.0   \n4                                   0.0   \n\n   Parental_Education_Level_Postgraduate  Distance_from_Home_Far  \\\n0                                    0.0                     0.0   \n1                                    0.0                     0.0   \n2                                    1.0                     0.0   \n3                                    0.0                     0.0   \n4                                    0.0                     0.0   \n\n   Distance_from_Home_Moderate  Distance_from_Home_Near  Gender_Female  \\\n0                          0.0                      1.0            0.0   \n1                          1.0                      0.0            1.0   \n2                          0.0                      1.0            0.0   \n3                          1.0                      0.0            0.0   \n4                          0.0                      1.0            1.0   \n\n   Gender_Male  \n0          1.0  \n1          0.0  \n2          1.0  \n3          1.0  \n4          0.0  \n\n[5 rows x 30 columns]",
      "text/html": "<div>\n<style scoped>\n    .dataframe tbody tr th:only-of-type {\n        vertical-align: middle;\n    }\n\n    .dataframe tbody tr th {\n        vertical-align: top;\n    }\n\n    .dataframe thead th {\n        text-align: right;\n    }\n</style>\n<table border=\"1\" class=\"dataframe\">\n  <thead>\n    <tr style=\"text-align: right;\">\n      <th></th>\n      <th>Hours_Studied</th>\n      <th>Attendance</th>\n      <th>Parental_Involvement</th>\n      <th>Access_to_Resources</th>\n      <th>Sleep_Hours</th>\n      <th>Previous_Scores</th>\n      <th>Motivation_Level</th>\n      <th>Tutoring_Sessions</th>\n      <th>Family_Income</th>\n      <th>Teacher_Quality</th>\n      <th>...</th>\n      <th>Learning_Disabilities_No</th>\n      <th>Learning_Disabilities_Yes</th>\n      <th>Parental_Education_Level_College</th>\n      <th>Parental_Education_Level_High School</th>\n      <th>Parental_Education_Level_Postgraduate</th>\n      <th>Distance_from_Home_Far</th>\n      <th>Distance_from_Home_Moderate</th>\n      <th>Distance_from_Home_Near</th>\n      <th>Gender_Female</th>\n      <th>Gender_Male</th>\n    </tr>\n  </thead>\n  <tbody>\n    <tr>\n      <th>0</th>\n      <td>0.600000</td>\n      <td>0.600</td>\n      <td>0.5</td>\n      <td>0.0</td>\n      <td>0.500000</td>\n      <td>0.46</td>\n      <td>0.5</td>\n      <td>0.000</td>\n      <td>0.5</td>\n      <td>1.0</td>\n      <td>...</td>\n      <td>1.0</td>\n      <td>0.0</td>\n      <td>0.0</td>\n      <td>1.0</td>\n      <td>0.0</td>\n      <td>0.0</td>\n      <td>0.0</td>\n      <td>1.0</td>\n      <td>0.0</td>\n      <td>1.0</td>\n    </tr>\n    <tr>\n      <th>1</th>\n      <td>0.466667</td>\n      <td>0.100</td>\n      <td>0.5</td>\n      <td>1.0</td>\n      <td>0.666667</td>\n      <td>0.18</td>\n      <td>0.5</td>\n      <td>0.250</td>\n      <td>1.0</td>\n      <td>1.0</td>\n      <td>...</td>\n      <td>1.0</td>\n      <td>0.0</td>\n      <td>1.0</td>\n      <td>0.0</td>\n      <td>0.0</td>\n      <td>0.0</td>\n      <td>1.0</td>\n      <td>0.0</td>\n      <td>1.0</td>\n      <td>0.0</td>\n    </tr>\n    <tr>\n      <th>2</th>\n      <td>0.633333</td>\n      <td>0.950</td>\n      <td>1.0</td>\n      <td>1.0</td>\n      <td>0.500000</td>\n      <td>0.82</td>\n      <td>1.0</td>\n      <td>0.250</td>\n      <td>1.0</td>\n      <td>1.0</td>\n      <td>...</td>\n      <td>1.0</td>\n      <td>0.0</td>\n      <td>0.0</td>\n      <td>0.0</td>\n      <td>1.0</td>\n      <td>0.0</td>\n      <td>0.0</td>\n      <td>1.0</td>\n      <td>0.0</td>\n      <td>1.0</td>\n    </tr>\n    <tr>\n      <th>3</th>\n      <td>0.800000</td>\n      <td>0.725</td>\n      <td>0.5</td>\n      <td>1.0</td>\n      <td>0.666667</td>\n      <td>0.96</td>\n      <td>1.0</td>\n      <td>0.125</td>\n      <td>1.0</td>\n      <td>1.0</td>\n      <td>...</td>\n      <td>1.0</td>\n      <td>0.0</td>\n      <td>0.0</td>\n      <td>1.0</td>\n      <td>0.0</td>\n      <td>0.0</td>\n      <td>1.0</td>\n      <td>0.0</td>\n      <td>0.0</td>\n      <td>1.0</td>\n    </tr>\n    <tr>\n      <th>4</th>\n      <td>0.466667</td>\n      <td>0.800</td>\n      <td>1.0</td>\n      <td>1.0</td>\n      <td>0.333333</td>\n      <td>0.30</td>\n      <td>1.0</td>\n      <td>0.375</td>\n      <td>1.0</td>\n      <td>0.0</td>\n      <td>...</td>\n      <td>1.0</td>\n      <td>0.0</td>\n      <td>1.0</td>\n      <td>0.0</td>\n      <td>0.0</td>\n      <td>0.0</td>\n      <td>0.0</td>\n      <td>1.0</td>\n      <td>1.0</td>\n      <td>0.0</td>\n    </tr>\n  </tbody>\n</table>\n<p>5 rows × 30 columns</p>\n</div>"
     },
     "execution_count": 2,
     "metadata": {},
     "output_type": "execute_result"
    }
   ],
   "source": [
    "data = pd.read_csv('../data/StudentPerformanceFactorsCleaned.csv')\n",
    "y = data['Exam_Score']\n",
    "X = data.drop(columns=['Exam_Score'], axis=1)\n",
    "X.head()"
   ],
   "metadata": {
    "collapsed": false,
    "ExecuteTime": {
     "end_time": "2024-11-05T19:47:30.618695Z",
     "start_time": "2024-11-05T19:47:30.546476Z"
    }
   },
   "id": "74d936390ea1be14",
   "execution_count": 2
  },
  {
   "cell_type": "code",
   "outputs": [],
   "source": [
    "pca = PCA(n_components=15)\n",
    "data_transformed = pca.fit_transform(X)\n",
    "data_transformed = pd.DataFrame(data_transformed)"
   ],
   "metadata": {
    "collapsed": false,
    "ExecuteTime": {
     "end_time": "2024-11-05T19:47:31.406538Z",
     "start_time": "2024-11-05T19:47:31.353352Z"
    }
   },
   "id": "75f93977f5564589",
   "execution_count": 3
  },
  {
   "cell_type": "code",
   "outputs": [],
   "source": [
    "X_train, X_test, y_train, y_test = train_test_split(X, y, test_size=0.3, random_state=42)"
   ],
   "metadata": {
    "collapsed": false,
    "ExecuteTime": {
     "end_time": "2024-11-05T19:47:31.964Z",
     "start_time": "2024-11-05T19:47:31.955484Z"
    }
   },
   "id": "b0fababe4d19a4e4",
   "execution_count": 4
  },
  {
   "cell_type": "code",
   "outputs": [
    {
     "name": "stdout",
     "output_type": "stream",
     "text": [
      "Fitting 5 folds for each of 500 candidates, totalling 2500 fits\n",
      "Random Forest\n"
     ]
    }
   ],
   "source": [
    "# Random Forest\n",
    "rf = RandomForestRegressor()\n",
    "rfclf = GridSearchCV(rf, {'n_estimators': [100, 200, 300, 400, 500], 'max_depth': [5, 10, 20, 30, 40], 'min_samples_leaf':[1,2,3,4], 'max_features':['sqrt', 'log2', 1.0, 2, 0.5]}, verbose=1, scoring='neg_root_mean_squared_error')\n",
    "rfclf.fit(X_train, y_train)\n",
    "print('Random Forest')\n"
   ],
   "metadata": {
    "collapsed": false,
    "ExecuteTime": {
     "end_time": "2024-11-05T20:41:55.786016Z",
     "start_time": "2024-11-05T19:47:32.748649Z"
    }
   },
   "id": "da08f5ded8a789ca",
   "execution_count": 5
  },
  {
   "cell_type": "code",
   "outputs": [],
   "source": [
    "df = pd.DataFrame(rfclf.cv_results_)\n",
    "df = df.sort_values(by='rank_test_score')\n",
    "df.to_csv('../results/RandomForestResults.csv')"
   ],
   "metadata": {
    "collapsed": false,
    "ExecuteTime": {
     "end_time": "2024-11-05T21:01:09.694092Z",
     "start_time": "2024-11-05T21:01:09.672536Z"
    }
   },
   "id": "e197bf28002ba5f8",
   "execution_count": 6
  },
  {
   "cell_type": "code",
   "outputs": [
    {
     "name": "stdout",
     "output_type": "stream",
     "text": [
      "Fitting 5 folds for each of 32 candidates, totalling 160 fits\n",
      "SVM\n"
     ]
    }
   ],
   "source": [
    "# SVM\n",
    "svm = SVR()\n",
    "clf = GridSearchCV(svm, {'C': [1, 10, 100, 1000], 'gamma': [0.001, 0.0001], 'kernel':[\n",
    "    'rbf', 'linear', 'poly', 'sigmoid'\n",
    "]}, verbose=1, scoring='neg_root_mean_squared_error')\n",
    "clf.fit(X_train, y_train)\n",
    "print('SVM')\n"
   ],
   "metadata": {
    "collapsed": false,
    "ExecuteTime": {
     "end_time": "2024-11-05T21:13:55.615729Z",
     "start_time": "2024-11-05T21:01:11.265518Z"
    }
   },
   "id": "a9cb6f3ee8ffc352",
   "execution_count": 7
  },
  {
   "cell_type": "code",
   "outputs": [],
   "source": [
    "df = pd.DataFrame(clf.cv_results_)\n",
    "df = df.sort_values(by='rank_test_score')\n",
    "df.to_csv('../results/SVM_Results.csv')"
   ],
   "metadata": {
    "collapsed": false,
    "ExecuteTime": {
     "end_time": "2024-11-05T21:13:55.624479Z",
     "start_time": "2024-11-05T21:13:55.617562Z"
    }
   },
   "id": "561525a741579b05",
   "execution_count": 8
  },
  {
   "cell_type": "code",
   "outputs": [
    {
     "name": "stdout",
     "output_type": "stream",
     "text": [
      "Fitting 5 folds for each of 12 candidates, totalling 60 fits\n"
     ]
    },
    {
     "name": "stderr",
     "output_type": "stream",
     "text": [
      "C:\\Program Files\\Python311\\Lib\\site-packages\\sklearn\\model_selection\\_split.py:737: UserWarning: The least populated class in y has only 1 members, which is less than n_splits=5.\n",
      "  warnings.warn(\n",
      "C:\\Program Files\\Python311\\Lib\\site-packages\\sklearn\\linear_model\\_sag.py:350: ConvergenceWarning: The max_iter was reached which means the coef_ did not converge\n",
      "  warnings.warn(\n",
      "C:\\Program Files\\Python311\\Lib\\site-packages\\sklearn\\linear_model\\_sag.py:350: ConvergenceWarning: The max_iter was reached which means the coef_ did not converge\n",
      "  warnings.warn(\n",
      "C:\\Program Files\\Python311\\Lib\\site-packages\\sklearn\\linear_model\\_sag.py:350: ConvergenceWarning: The max_iter was reached which means the coef_ did not converge\n",
      "  warnings.warn(\n",
      "C:\\Program Files\\Python311\\Lib\\site-packages\\sklearn\\linear_model\\_sag.py:350: ConvergenceWarning: The max_iter was reached which means the coef_ did not converge\n",
      "  warnings.warn(\n",
      "C:\\Program Files\\Python311\\Lib\\site-packages\\sklearn\\linear_model\\_sag.py:350: ConvergenceWarning: The max_iter was reached which means the coef_ did not converge\n",
      "  warnings.warn(\n",
      "C:\\Program Files\\Python311\\Lib\\site-packages\\sklearn\\linear_model\\_sag.py:350: ConvergenceWarning: The max_iter was reached which means the coef_ did not converge\n",
      "  warnings.warn(\n",
      "C:\\Program Files\\Python311\\Lib\\site-packages\\sklearn\\linear_model\\_sag.py:350: ConvergenceWarning: The max_iter was reached which means the coef_ did not converge\n",
      "  warnings.warn(\n",
      "C:\\Program Files\\Python311\\Lib\\site-packages\\sklearn\\linear_model\\_sag.py:350: ConvergenceWarning: The max_iter was reached which means the coef_ did not converge\n",
      "  warnings.warn(\n",
      "C:\\Program Files\\Python311\\Lib\\site-packages\\sklearn\\linear_model\\_sag.py:350: ConvergenceWarning: The max_iter was reached which means the coef_ did not converge\n",
      "  warnings.warn(\n",
      "C:\\Program Files\\Python311\\Lib\\site-packages\\sklearn\\linear_model\\_sag.py:350: ConvergenceWarning: The max_iter was reached which means the coef_ did not converge\n",
      "  warnings.warn(\n",
      "C:\\Program Files\\Python311\\Lib\\site-packages\\sklearn\\linear_model\\_sag.py:350: ConvergenceWarning: The max_iter was reached which means the coef_ did not converge\n",
      "  warnings.warn(\n",
      "C:\\Program Files\\Python311\\Lib\\site-packages\\sklearn\\linear_model\\_sag.py:350: ConvergenceWarning: The max_iter was reached which means the coef_ did not converge\n",
      "  warnings.warn(\n",
      "C:\\Program Files\\Python311\\Lib\\site-packages\\sklearn\\linear_model\\_sag.py:350: ConvergenceWarning: The max_iter was reached which means the coef_ did not converge\n",
      "  warnings.warn(\n",
      "C:\\Program Files\\Python311\\Lib\\site-packages\\sklearn\\linear_model\\_sag.py:350: ConvergenceWarning: The max_iter was reached which means the coef_ did not converge\n",
      "  warnings.warn(\n",
      "C:\\Program Files\\Python311\\Lib\\site-packages\\sklearn\\linear_model\\_sag.py:350: ConvergenceWarning: The max_iter was reached which means the coef_ did not converge\n",
      "  warnings.warn(\n"
     ]
    },
    {
     "name": "stdout",
     "output_type": "stream",
     "text": [
      "Logistic Regression\n",
      "Best Parameters: {'C': 10, 'solver': 'saga'}\n"
     ]
    }
   ],
   "source": [
    "# Logistic Regression\n",
    "linear = LogisticRegression(max_iter=1000)\n",
    "lrclf = GridSearchCV(linear, {'C': [10, 100, 1000], 'solver':['liblinear', 'sag', 'saga', 'newton-cg']}, verbose=1, scoring='neg_root_mean_squared_error')\n",
    "lrclf.fit(X_train, y_train)\n",
    "print('Logistic Regression')\n",
    "print('Best Parameters:', lrclf.best_params_)"
   ],
   "metadata": {
    "collapsed": false,
    "ExecuteTime": {
     "end_time": "2024-11-05T21:19:15.933651Z",
     "start_time": "2024-11-05T21:13:55.624998Z"
    }
   },
   "id": "ecf6028aca027670",
   "execution_count": 9
  },
  {
   "cell_type": "code",
   "outputs": [],
   "source": [
    "df = pd.DataFrame(lrclf.cv_results_)\n",
    "df = df.sort_values(by='rank_test_score')\n",
    "df.to_csv('../results/LR_Results.csv')"
   ],
   "metadata": {
    "collapsed": false,
    "ExecuteTime": {
     "end_time": "2024-11-05T21:19:15.944213Z",
     "start_time": "2024-11-05T21:19:15.934784Z"
    }
   },
   "id": "f180fe5968f11432",
   "execution_count": 10
  },
  {
   "cell_type": "code",
   "outputs": [],
   "source": [],
   "metadata": {
    "collapsed": false
   },
   "id": "a1ef356fe7096388"
  }
 ],
 "metadata": {
  "kernelspec": {
   "display_name": "Python 3",
   "language": "python",
   "name": "python3"
  },
  "language_info": {
   "codemirror_mode": {
    "name": "ipython",
    "version": 2
   },
   "file_extension": ".py",
   "mimetype": "text/x-python",
   "name": "python",
   "nbconvert_exporter": "python",
   "pygments_lexer": "ipython2",
   "version": "2.7.6"
  }
 },
 "nbformat": 4,
 "nbformat_minor": 5
}
